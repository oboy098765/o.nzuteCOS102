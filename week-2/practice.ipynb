{
 "cells": [
  {
   "cell_type": "code",
   "execution_count": 3,
   "metadata": {},
   "outputs": [
    {
     "name": "stdout",
     "output_type": "stream",
     "text": [
      "Your state of origin is:  enugu\n",
      "The first character is:  e\n",
      "The characters starting from 3rd to 5th are:  ugu\n",
      "The string starting from 3rd character is:  ugu\n",
      "State of origin two times:  enuguenugu\n"
     ]
    }
   ],
   "source": [
    "str = input(\"Enter your state of origin: \")\n",
    "\n",
    "print (\"Your state of origin is: \", str)\n",
    "print (\"The first character is: \", str[0])\n",
    "print (\"The characters starting from 3rd to 5th are: \", str[2:5])\n",
    "print (\"The string starting from 3rd character is: \", str[2:])\n",
    "print (\"State of origin two times: \", str * 2)\n",
    "\n"
   ]
  },
  {
   "cell_type": "code",
   "execution_count": 4,
   "metadata": {},
   "outputs": [
    {
     "name": "stdout",
     "output_type": "stream",
     "text": [
      "The energy equivalent to 56.0 kg of mass is 5.033029000926178e+18 joules.\n"
     ]
    }
   ],
   "source": [
    "m = float(input(\"Enter mass in kilograms: \"))\n",
    "c = 299792458\n",
    "energy = m * c  ** 2\n",
    "print(f\"The energy equivalent to {m} kg of mass is {energy} joules.\")\n",
    "\n"
   ]
  },
  {
   "cell_type": "code",
   "execution_count": 5,
   "metadata": {},
   "outputs": [
    {
     "name": "stdout",
     "output_type": "stream",
     "text": [
      "['Anaconda', 786, 2.23, 'Jupyter', 70.2]\n",
      "Anaconda\n",
      "[786, 2.23]\n",
      "[2.23, 'Jupyter', 70.2]\n",
      "[321, 'Python', 321, 'Python']\n",
      "['Anaconda', 786, 2.23, 'Jupyter', 70.2, 321, 'Python']\n"
     ]
    }
   ],
   "source": [
    "list = ['Anaconda', 786, 2.23, 'Jupyter', 70.2 ]\n",
    "shortlist = [321, 'Python']\n",
    "\n",
    "print(list)\n",
    "print(list[0])\n",
    "print(list[1:3])\n",
    "print(list[2:])\n",
    "print(shortlist * 2)\n",
    "print(list + shortlist)"
   ]
  },
  {
   "cell_type": "code",
   "execution_count": null,
   "metadata": {},
   "outputs": [
    {
     "name": "stdout",
     "output_type": "stream",
     "text": [
      "('Ekiti', 750, 'Oshogbo', 250, 'Akure', 500)\n",
      "500\n",
      "('Oshogbo', 250)\n",
      "(250, 'Akure', 500)\n",
      "('Abeokuta', 300, 'Ogbomoso', 'Abeokuta', 300, 'Ogbomoso', 'Abeokuta', 300, 'Ogbomoso')\n",
      "('Ekiti', 750, 'Oshogbo', 250, 'Akure', 500, 'Abeokuta', 300, 'Ogbomoso')\n"
     ]
    }
   ],
   "source": [
    "tuple = (\"Ekiti\", 750, 'Oshogbo', 250, \"Akure\", 500)\n",
    "s_tuple = (\"Abeokuta\", 300, \"Ogbomoso\")\n",
    "\n",
    "# Prints the complete tuple\n",
    "print(tuple)\n",
    "\n",
    "# Prints last element of the tuple\n",
    "print(tuple[-1])\n",
    "\n",
    "# Prints elements of the tuple starting from 2nd till 3rd\n",
    "print(tuple[2:4])\n",
    "\n",
    "# Prints elements of the tuple starting from 3rd element\n",
    "print(tuple[3:])\n",
    "\n",
    "# Prints the contents of the tuple thrice\n",
    "print(s_tuple * 3)\n",
    "\n",
    "# Prints concatenated tuples\n",
    "print(tuple + s_tuple)\n",
    "\n"
   ]
  },
  {
   "cell_type": "code",
   "execution_count": 7,
   "metadata": {},
   "outputs": [
    {
     "name": "stdout",
     "output_type": "stream",
     "text": [
      "False\n",
      "False\n",
      "False\n",
      "False\n",
      "True\n"
     ]
    }
   ],
   "source": [
    "# Returns false as game_1 is not equal to game_2\n",
    "game_1 = 2\n",
    "game_2 = 4\n",
    "print(bool(game_1 == game_2))\n",
    "# Or\n",
    "print(game_1 == game_2)\n",
    "\n",
    "# Returns False as val is None\n",
    "val = None\n",
    "print(bool(val))\n",
    "\n",
    "# Returns false as num is an empty sequence\n",
    "num = ()\n",
    "print(bool(num))\n",
    "\n",
    "# Returns true as age is boolean\n",
    "age = True\n",
    "print(bool(age))\n"
   ]
  },
  {
   "cell_type": "code",
   "execution_count": 8,
   "metadata": {},
   "outputs": [
    {
     "name": "stdout",
     "output_type": "stream",
     "text": [
      "Grade = 70\n",
      "GPA = 4\n",
      "CGPA = 4\n"
     ]
    }
   ],
   "source": [
    "# Convert to int\n",
    "\n",
    "grade = int(70)\n",
    "gpa = int(4.9)\n",
    "cgpa = int(\"4\")\n",
    "\n",
    "print(f\"Grade = {grade}\")\n",
    "print(f\"GPA = {gpa}\")\n",
    "print(f\"CGPA = {cgpa}\")\n",
    "\n"
   ]
  },
  {
   "cell_type": "code",
   "execution_count": 9,
   "metadata": {},
   "outputs": [
    {
     "name": "stdout",
     "output_type": "stream",
     "text": [
      "Grade = 97.0\n",
      "GPA = 5.0\n",
      "CGPA = 4.7\n"
     ]
    }
   ],
   "source": [
    "# Convert to float\n",
    "\n",
    "grade = float(97)\n",
    "gpa = float(5)\n",
    "cgpa = float(\"4.7\")\n",
    "\n",
    "print(f\"Grade = {grade}\")\n",
    "print(f\"GPA = {gpa}\")\n",
    "print(f\"CGPA = {cgpa}\")\n",
    "\n"
   ]
  }
 ],
 "metadata": {
  "kernelspec": {
   "display_name": "Python 3",
   "language": "python",
   "name": "python3"
  },
  "language_info": {
   "codemirror_mode": {
    "name": "ipython",
    "version": 3
   },
   "file_extension": ".py",
   "mimetype": "text/x-python",
   "name": "python",
   "nbconvert_exporter": "python",
   "pygments_lexer": "ipython3",
   "version": "3.13.2"
  }
 },
 "nbformat": 4,
 "nbformat_minor": 2
}
